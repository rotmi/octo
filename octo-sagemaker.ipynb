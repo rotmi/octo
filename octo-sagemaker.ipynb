{
 "cells": [
  {
   "cell_type": "code",
   "execution_count": null,
   "metadata": {},
   "outputs": [],
   "source": [
    "%pip install --upgrade sagemaker"
   ]
  },
  {
   "cell_type": "code",
   "execution_count": null,
   "metadata": {},
   "outputs": [],
   "source": [
    "import sagemaker\n",
    "import os\n",
    "import boto3\n",
    "from botocore.config import Config\n",
    "from sagemaker import get_execution_role\n",
    "from sagemaker.tensorflow import TensorFlow\n",
    "\n",
    "role = get_execution_role()\n",
    "sess = sagemaker.Session()\n",
    "region = boto3.Session().region_name\n",
    "bucket = sess.default_bucket()\n",
    "prefix = 'octo/datasets/aloha_sim_dataset'\n",
    "base_job_name = 'octo-flax'\n",
    "py_version = \"py310\"\n",
    "source_dir = f\"{os.getcwd()}\"\n",
    "entry_point = \"02_finetune_new_observation_action.py\"\n",
    "instance_type = \"ml.g5.48xlarge\"\n",
    "instance_count = 1\n",
    "keep_alive_period_in_seconds = 300\n",
    "image_uri = f\"763104351884.dkr.ecr.{region}.amazonaws.com/tensorflow-training:2.14.1-gpu-py310-cu118-ubuntu20.04-sagemaker\"\n",
    "s3_client = boto3.client('s3')"
   ]
  },
  {
   "cell_type": "markdown",
   "metadata": {},
   "source": [
    "## Upload the Octo finetuning dataset to Amazon S3"
   ]
  },
  {
   "cell_type": "code",
   "execution_count": null,
   "metadata": {},
   "outputs": [],
   "source": [
    "!curl https://rail.eecs.berkeley.edu/datasets/example_sim_data.zip -O\n",
    "!unzip example_sim_data.zip"
   ]
  },
  {
   "cell_type": "code",
   "execution_count": null,
   "metadata": {},
   "outputs": [],
   "source": [
    "local_directory = f\"{os.getcwd()}/aloha_sim_dataset\"\n",
    "\n",
    "for root, dirs, files in os.walk(local_directory):\n",
    "\n",
    "    for filename in files:\n",
    "\n",
    "        local_path = os.path.join(root, filename)\n",
    "        relative_path = os.path.relpath(local_path, local_directory)\n",
    "        s3_path = os.path.join(prefix, relative_path)\n",
    "    \n",
    "        print('Searching \"%s\" in \"%s\"' % (s3_path, bucket))\n",
    "        try:\n",
    "            s3_client.head_object(Bucket=bucket, Key=s3_path)\n",
    "            print(f\"Path found on S3! Skipping {s3_path}...\")\n",
    "        except:\n",
    "            print(\"Uploading %s...\" % s3_path)\n",
    "            s3_client.upload_file(local_path, bucket, s3_path)"
   ]
  },
  {
   "cell_type": "code",
   "execution_count": null,
   "metadata": {},
   "outputs": [],
   "source": [
    "!rm example_sim_data.zip\n",
    "!rm -fr aloha_sim_dataset"
   ]
  },
  {
   "cell_type": "markdown",
   "metadata": {},
   "source": [
    "## Finetune Octo on Amazon SageMaker"
   ]
  },
  {
   "cell_type": "code",
   "execution_count": null,
   "metadata": {},
   "outputs": [],
   "source": [
    "flax_estimator = TensorFlow(\n",
    "    role = role,\n",
    "    instance_count = instance_count,\n",
    "    base_job_name = base_job_name,\n",
    "    image_uri = image_uri,\n",
    "    py_version = py_version,\n",
    "    source_dir = source_dir,\n",
    "    entry_point = entry_point,\n",
    "    instance_type = instance_type,\n",
    "    keep_alive_period_in_seconds = keep_alive_period_in_seconds,\n",
    ")\n",
    "\n",
    "flax_estimator.fit(inputs={\n",
    "    'train': f\"s3://{bucket}/{prefix}\"})"
   ]
  },
  {
   "cell_type": "code",
   "execution_count": null,
   "metadata": {},
   "outputs": [],
   "source": []
  }
 ],
 "metadata": {
  "kernelspec": {
   "display_name": "Python 3",
   "language": "python",
   "name": "python3"
  },
  "language_info": {
   "codemirror_mode": {
    "name": "ipython",
    "version": 3
   },
   "file_extension": ".py",
   "mimetype": "text/x-python",
   "name": "python",
   "nbconvert_exporter": "python",
   "pygments_lexer": "ipython3",
   "version": "3.9.6"
  }
 },
 "nbformat": 4,
 "nbformat_minor": 2
}
