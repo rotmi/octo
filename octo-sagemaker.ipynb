{
 "cells": [
  {
   "cell_type": "code",
   "execution_count": 1,
   "metadata": {},
   "outputs": [
    {
     "name": "stdout",
     "output_type": "stream",
     "text": [
      "Defaulting to user installation because normal site-packages is not writeable\n",
      "Collecting sagemaker\n",
      "  Downloading sagemaker-2.226.1-py3-none-any.whl (1.5 MB)\n",
      "\u001b[K     |████████████████████████████████| 1.5 MB 2.1 MB/s eta 0:00:01\n",
      "\u001b[?25hCollecting jsonschema\n",
      "  Downloading jsonschema-4.23.0-py3-none-any.whl (88 kB)\n",
      "\u001b[K     |████████████████████████████████| 88 kB 2.7 MB/s eta 0:00:01\n",
      "\u001b[?25hCollecting cloudpickle==2.2.1\n",
      "  Downloading cloudpickle-2.2.1-py3-none-any.whl (25 kB)\n",
      "Collecting schema\n",
      "  Downloading schema-0.7.7-py2.py3-none-any.whl (18 kB)\n",
      "Collecting google-pasta\n",
      "  Downloading google_pasta-0.2.0-py3-none-any.whl (57 kB)\n",
      "\u001b[K     |████████████████████████████████| 57 kB 1.0 MB/s eta 0:00:01\n",
      "\u001b[?25hCollecting boto3<2.0,>=1.34.142\n",
      "  Downloading boto3-1.34.145-py3-none-any.whl (139 kB)\n",
      "\u001b[K     |████████████████████████████████| 139 kB 3.0 MB/s eta 0:00:01\n",
      "\u001b[?25hCollecting smdebug-rulesconfig==1.0.1\n",
      "  Downloading smdebug_rulesconfig-1.0.1-py2.py3-none-any.whl (20 kB)\n",
      "Collecting tblib<4,>=1.7.0\n",
      "  Downloading tblib-3.0.0-py3-none-any.whl (12 kB)\n",
      "Collecting docker\n",
      "  Downloading docker-7.1.0-py3-none-any.whl (147 kB)\n",
      "\u001b[K     |████████████████████████████████| 147 kB 2.5 MB/s eta 0:00:01\n",
      "\u001b[?25hCollecting pandas\n",
      "  Downloading pandas-2.2.2-cp39-cp39-macosx_11_0_arm64.whl (11.3 MB)\n",
      "\u001b[K     |████████████████████████████████| 11.3 MB 532 kB/s eta 0:00:01    |██████████████████▎             | 6.5 MB 3.6 MB/s eta 0:00:02\n",
      "\u001b[?25hCollecting numpy<2.0,>=1.9.0\n",
      "  Downloading numpy-1.26.4-cp39-cp39-macosx_11_0_arm64.whl (14.0 MB)\n",
      "\u001b[K     |████████████████████████████████| 14.0 MB 612 kB/s eta 0:00:01    |█████████▎                      | 4.1 MB 3.3 MB/s eta 0:00:03     |█████████████████████████▎      | 11.0 MB 4.7 MB/s eta 0:00:01��█████████▌  | 12.9 MB 612 kB/s eta 0:00:02\n",
      "\u001b[?25hCollecting tqdm\n",
      "  Downloading tqdm-4.66.4-py3-none-any.whl (78 kB)\n",
      "\u001b[K     |████████████████████████████████| 78 kB 2.7 MB/s eta 0:00:01\n",
      "\u001b[?25hCollecting protobuf<5.0,>=3.12\n",
      "  Downloading protobuf-4.25.3-cp37-abi3-macosx_10_9_universal2.whl (394 kB)\n",
      "\u001b[K     |████████████████████████████████| 394 kB 4.2 MB/s eta 0:00:01     |██████████████████▎             | 225 kB 4.2 MB/s eta 0:00:01\n",
      "\u001b[?25hCollecting urllib3<3.0.0,>=1.26.8\n",
      "  Downloading urllib3-2.2.2-py3-none-any.whl (121 kB)\n",
      "\u001b[K     |████████████████████████████████| 121 kB 3.6 MB/s eta 0:00:01\n",
      "\u001b[?25hCollecting requests\n",
      "  Downloading requests-2.32.3-py3-none-any.whl (64 kB)\n",
      "\u001b[K     |████████████████████████████████| 64 kB 1.6 MB/s eta 0:00:011\n",
      "\u001b[?25hCollecting pathos\n",
      "  Downloading pathos-0.3.2-py3-none-any.whl (82 kB)\n",
      "\u001b[K     |████████████████████████████████| 82 kB 452 kB/s eta 0:00:01\n",
      "\u001b[?25hRequirement already satisfied: platformdirs in /Users/rotmi/Library/Python/3.9/lib/python/site-packages (from sagemaker) (4.2.2)\n",
      "Requirement already satisfied: psutil in /Users/rotmi/Library/Python/3.9/lib/python/site-packages (from sagemaker) (6.0.0)\n",
      "Requirement already satisfied: packaging>=20.0 in /Users/rotmi/Library/Python/3.9/lib/python/site-packages (from sagemaker) (24.1)\n",
      "Collecting PyYAML~=6.0\n",
      "  Downloading PyYAML-6.0.1-cp39-cp39-macosx_11_0_arm64.whl (174 kB)\n",
      "\u001b[K     |████████████████████████████████| 174 kB 6.8 MB/s eta 0:00:01\n",
      "\u001b[?25hCollecting attrs<24,>=23.1.0\n",
      "  Downloading attrs-23.2.0-py3-none-any.whl (60 kB)\n",
      "\u001b[K     |████████████████████████████████| 60 kB 2.9 MB/s eta 0:00:01\n",
      "\u001b[?25hCollecting importlib-metadata<7.0,>=1.4.0\n",
      "  Downloading importlib_metadata-6.11.0-py3-none-any.whl (23 kB)\n",
      "Collecting s3transfer<0.11.0,>=0.10.0\n",
      "  Downloading s3transfer-0.10.2-py3-none-any.whl (82 kB)\n",
      "\u001b[K     |████████████████████████████████| 82 kB 1.7 MB/s eta 0:00:01\n",
      "\u001b[?25hCollecting botocore<1.35.0,>=1.34.145\n",
      "  Downloading botocore-1.34.145-py3-none-any.whl (12.4 MB)\n",
      "\u001b[K     |████████████████████████████████| 12.4 MB 5.2 MB/s eta 0:00:01    |██████████                      | 3.8 MB 4.6 MB/s eta 0:00:02�██▉        | 9.3 MB 2.8 MB/s eta 0:00:02��██████████████████████████▎ | 11.8 MB 2.7 MB/s eta 0:00:0111.8 MB 2.7 MB/s eta 0:00:01�██████████▉| 12.3 MB 5.2 MB/s eta 0:00:01\n",
      "\u001b[?25hCollecting jmespath<2.0.0,>=0.7.1\n",
      "  Downloading jmespath-1.0.1-py3-none-any.whl (20 kB)\n",
      "Collecting urllib3<3.0.0,>=1.26.8\n",
      "  Downloading urllib3-1.26.19-py2.py3-none-any.whl (143 kB)\n",
      "\u001b[K     |████████████████████████████████| 143 kB 2.9 MB/s eta 0:00:01\n",
      "\u001b[?25hRequirement already satisfied: python-dateutil<3.0.0,>=2.1 in /Users/rotmi/Library/Python/3.9/lib/python/site-packages (from botocore<1.35.0,>=1.34.145->boto3<2.0,>=1.34.142->sagemaker) (2.9.0.post0)\n",
      "Requirement already satisfied: zipp>=0.5 in /Users/rotmi/Library/Python/3.9/lib/python/site-packages (from importlib-metadata<7.0,>=1.4.0->sagemaker) (3.19.2)\n",
      "Requirement already satisfied: six>=1.5 in /Library/Developer/CommandLineTools/Library/Frameworks/Python3.framework/Versions/3.9/lib/python3.9/site-packages (from python-dateutil<3.0.0,>=2.1->botocore<1.35.0,>=1.34.145->boto3<2.0,>=1.34.142->sagemaker) (1.15.0)\n",
      "Collecting certifi>=2017.4.17\n",
      "  Downloading certifi-2024.7.4-py3-none-any.whl (162 kB)\n",
      "\u001b[K     |████████████████████████████████| 162 kB 2.6 MB/s eta 0:00:01\n",
      "\u001b[?25hCollecting idna<4,>=2.5\n",
      "  Downloading idna-3.7-py3-none-any.whl (66 kB)\n",
      "\u001b[K     |████████████████████████████████| 66 kB 1.6 MB/s eta 0:00:01\n",
      "\u001b[?25hCollecting charset-normalizer<4,>=2\n",
      "  Downloading charset_normalizer-3.3.2-cp39-cp39-macosx_11_0_arm64.whl (120 kB)\n",
      "\u001b[K     |████████████████████████████████| 120 kB 3.1 MB/s eta 0:00:01\n",
      "\u001b[?25hCollecting referencing>=0.28.4\n",
      "  Downloading referencing-0.35.1-py3-none-any.whl (26 kB)\n",
      "Collecting jsonschema-specifications>=2023.03.6\n",
      "  Downloading jsonschema_specifications-2023.12.1-py3-none-any.whl (18 kB)\n",
      "Collecting rpds-py>=0.7.1\n",
      "  Downloading rpds_py-0.19.0-cp39-cp39-macosx_11_0_arm64.whl (310 kB)\n",
      "\u001b[K     |████████████████████████████████| 310 kB 2.9 MB/s eta 0:00:01\n",
      "\u001b[?25hCollecting pytz>=2020.1\n",
      "  Downloading pytz-2024.1-py2.py3-none-any.whl (505 kB)\n",
      "\u001b[K     |████████████████████████████████| 505 kB 2.5 MB/s eta 0:00:01\n",
      "\u001b[?25hCollecting tzdata>=2022.7\n",
      "  Downloading tzdata-2024.1-py2.py3-none-any.whl (345 kB)\n",
      "\u001b[K     |████████████████████████████████| 345 kB 3.0 MB/s eta 0:00:01\n",
      "\u001b[?25hCollecting pox>=0.3.4\n",
      "  Downloading pox-0.3.4-py3-none-any.whl (29 kB)\n",
      "Collecting multiprocess>=0.70.16\n",
      "  Downloading multiprocess-0.70.16-py39-none-any.whl (133 kB)\n",
      "\u001b[K     |████████████████████████████████| 133 kB 1.1 MB/s eta 0:00:01\n",
      "\u001b[?25hCollecting ppft>=1.7.6.8\n",
      "  Downloading ppft-1.7.6.8-py3-none-any.whl (56 kB)\n",
      "\u001b[K     |████████████████████████████████| 56 kB 871 kB/s eta 0:00:01\n",
      "\u001b[?25hCollecting dill>=0.3.8\n",
      "  Downloading dill-0.3.8-py3-none-any.whl (116 kB)\n",
      "\u001b[K     |████████████████████████████████| 116 kB 2.3 MB/s eta 0:00:01\n",
      "\u001b[?25hInstalling collected packages: urllib3, rpds-py, jmespath, attrs, referencing, idna, dill, charset-normalizer, certifi, botocore, tzdata, s3transfer, requests, pytz, ppft, pox, numpy, multiprocess, jsonschema-specifications, tqdm, tblib, smdebug-rulesconfig, schema, PyYAML, protobuf, pathos, pandas, jsonschema, importlib-metadata, google-pasta, docker, cloudpickle, boto3, sagemaker\n",
      "  Attempting uninstall: importlib-metadata\n",
      "    Found existing installation: importlib-metadata 8.0.0\n",
      "    Uninstalling importlib-metadata-8.0.0:\n",
      "      Successfully uninstalled importlib-metadata-8.0.0\n",
      "Successfully installed PyYAML-6.0.1 attrs-23.2.0 boto3-1.34.145 botocore-1.34.145 certifi-2024.7.4 charset-normalizer-3.3.2 cloudpickle-2.2.1 dill-0.3.8 docker-7.1.0 google-pasta-0.2.0 idna-3.7 importlib-metadata-6.11.0 jmespath-1.0.1 jsonschema-4.23.0 jsonschema-specifications-2023.12.1 multiprocess-0.70.16 numpy-1.26.4 pandas-2.2.2 pathos-0.3.2 pox-0.3.4 ppft-1.7.6.8 protobuf-4.25.3 pytz-2024.1 referencing-0.35.1 requests-2.32.3 rpds-py-0.19.0 s3transfer-0.10.2 sagemaker-2.226.1 schema-0.7.7 smdebug-rulesconfig-1.0.1 tblib-3.0.0 tqdm-4.66.4 tzdata-2024.1 urllib3-1.26.19\n",
      "\u001b[33mWARNING: You are using pip version 21.2.4; however, version 24.1.2 is available.\n",
      "You should consider upgrading via the '/Library/Developer/CommandLineTools/usr/bin/python3 -m pip install --upgrade pip' command.\u001b[0m\n",
      "Note: you may need to restart the kernel to use updated packages.\n"
     ]
    }
   ],
   "source": [
    "%pip install --upgrade sagemaker"
   ]
  },
  {
   "cell_type": "code",
   "execution_count": 15,
   "metadata": {},
   "outputs": [],
   "source": [
    "import sagemaker\n",
    "import os\n",
    "import boto3\n",
    "from botocore.config import Config\n",
    "from sagemaker import get_execution_role\n",
    "from sagemaker.tensorflow import TensorFlow\n",
    "\n",
    "role = get_execution_role()\n",
    "sess = sagemaker.Session()\n",
    "region = boto3.Session.region_name\n",
    "bucket = sess.default_bucket()\n",
    "prefix = 'octo/datasets/aloha_sim_dataset'\n",
    "base_job_name = 'octo-flax'\n",
    "py_version = \"py310\"\n",
    "source_dir = f\"{os.getcwd()}\"\n",
    "entry_point = \"02_finetune_new_observation_action.py\"\n",
    "instance_type = \"ml.g5.48xlarge\"\n",
    "instance_count = 1\n",
    "keep_alive_period_in_seconds = 300\n",
    "image_uri = f\"763104351884.dkr.ecr.{region}.amazonaws.com/tensorflow-training:2.14.1-gpu-py310-cu118-ubuntu20.04-sagemaker\"\n",
    "s3_client = boto3.client('s3')"
   ]
  },
  {
   "cell_type": "markdown",
   "metadata": {},
   "source": [
    "## Upload the Octo finetuning dataset to Amazon S3"
   ]
  },
  {
   "cell_type": "code",
   "execution_count": 7,
   "metadata": {},
   "outputs": [
    {
     "name": "stdout",
     "output_type": "stream",
     "text": [
      "  % Total    % Received % Xferd  Average Speed   Time    Time     Time  Current\n",
      "                                 Dload  Upload   Total   Spent    Left  Speed\n",
      "100  399M  100  399M    0     0   441k      0  0:15:26  0:15:26 --:--:--  783k     0  0:17:53  0:00:38  0:17:15  411k  0:00:48  0:16:48  421k9k      0  0:17:31  0:00:50  0:16:41  424k01:02  0:16:21  404k:01:09  0:16:08  411k  0:17:09  0:01:15  0:15:54  426k  0   397k      0  0:17:10  0:01:21  0:15:49  388k:18:06  0:01:47  0:16:19  340kk      0  0:18:23  0:02:03  0:16:20  376k 0:02:04  0:16:16  407k16:01  348k0  0:18:08  0:02:29  0:15:39  450k02:30  0:15:40  421k2  0:15:41  368k   0  0:18:11  0:02:41  0:15:30  426k5  0:03:01  0:15:04  401k 395k14:33  380k    0  0:17:48  0:04:06  0:13:42  402k   0  0:17:47  0:04:10  0:13:37  394k 0:04:33  0:13:08  443k0     0   385k      0  0:17:40  0:04:38  0:13:02  391k42  0:12:57  419k9  420k0:05:15  0:12:11  417k  0:17:24  0:05:48  0:11:36  405k     0  0:17:24  0:05:54  0:11:30  365k0  0:17:23  0:05:56  0:11:27  416k    0   392k      0  0:17:22  0:05:57  0:11:25  439k      0  0:17:18  0:06:08  0:11:10  444k      0  0:17:15  0:06:38  0:10:37  379k 0:10:02  410k0     0   396k      0  0:17:12  0:07:25  0:09:47  418k:17:11  0:07:29  0:09:42  425k:07:42  0:09:34  340k29  433k 0  0:17:15  0:07:49  0:09:26  413k23  0:08:58  275k1  369k  0:17:37  0:08:56  0:08:41  315k51  203M    0     0   386k      0  0:17:37  0:08:59  0:08:38  344k9  0:09:18  0:08:21  398k40  0:09:20  0:08:20  372k17:39  0:09:25  0:08:14  391k:08:07  377k   0  0:17:46  0:10:02  0:07:44  296k  0     0   383k      0  0:17:47  0:10:20  0:07:27  343k2  0:07:17  326k82k      0  0:17:50  0:10:39  0:07:11  364k  0:10:58  0:07:23 38104  0   371k      0  0:18:22  0:11:01  0:07:21  175k1:06  0:07:17  363k:11:12  0:07:10  379k    0   371k      0  0:18:20  0:11:26  0:06:54  408k0   371k      0  0:18:20  0:11:34  0:06:46  358k  0   371k      0  0:18:23  0:11:57  0:06:26  252k:18  373k370k      0  0:18:23  0:12:09  0:06:14  363k      0  0:17:56  0:13:15  0:04:41  806k94k      0  0:17:16  0:13:43  0:03:33  896k06k      0  0:16:47  0:14:04  0:02:43  749k     0   406k      0  0:16:45  0:14:05  0:02:40  776k      0  0:16:42  0:14:07  0:02:35  865k 0  0:16:23  0:14:20  0:02:03 1036k  358M    0     0   421k      0  0:16:11  0:14:30  0:01:41  929k0:15:07  0:00:29  761kk      0  0:15:30  0:15:22  0:00:08  750k440k      0  0:15:29  0:15:23  0:00:06  755k\n",
      "Archive:  example_sim_data.zip\n",
      "   creating: aloha_sim_dataset/\n",
      "   creating: aloha_sim_dataset/aloha_sim_cube_scripted_dataset/\n",
      "   creating: aloha_sim_dataset/aloha_sim_cube_scripted_dataset/1.0.0/\n",
      "  inflating: aloha_sim_dataset/aloha_sim_cube_scripted_dataset/1.0.0/aloha_sim_cube_scripted_dataset-train.tfrecord-00003-of-00008  \n",
      "  inflating: aloha_sim_dataset/aloha_sim_cube_scripted_dataset/1.0.0/aloha_sim_cube_scripted_dataset-train.tfrecord-00006-of-00008  \n",
      "  inflating: aloha_sim_dataset/aloha_sim_cube_scripted_dataset/1.0.0/aloha_sim_cube_scripted_dataset-train.tfrecord-00000-of-00008  \n",
      "  inflating: aloha_sim_dataset/aloha_sim_cube_scripted_dataset/1.0.0/dataset_info.json  \n",
      "  inflating: aloha_sim_dataset/aloha_sim_cube_scripted_dataset/1.0.0/aloha_sim_cube_scripted_dataset-train.tfrecord-00001-of-00008  \n",
      "  inflating: aloha_sim_dataset/aloha_sim_cube_scripted_dataset/1.0.0/features.json  \n",
      "  inflating: aloha_sim_dataset/aloha_sim_cube_scripted_dataset/1.0.0/dataset_statistics_30064f2847ec5dafa29d02e5c4a0d063660d0ca28bab3acf449bda185b3143dd.json  \n",
      "  inflating: aloha_sim_dataset/aloha_sim_cube_scripted_dataset/1.0.0/dataset_statistics_707801797899cdd91dcb18bd45463cf73ac935bfd6ac6b62456653e96f120a5f.json  \n",
      "  inflating: aloha_sim_dataset/aloha_sim_cube_scripted_dataset/1.0.0/aloha_sim_cube_scripted_dataset-train.tfrecord-00005-of-00008  \n",
      "  inflating: aloha_sim_dataset/aloha_sim_cube_scripted_dataset/1.0.0/dataset_statistics_efc466d3677b6697010485135012e2cd326145c80d09a51884ea8856801ebfb0.json  \n",
      "  inflating: aloha_sim_dataset/aloha_sim_cube_scripted_dataset/1.0.0/aloha_sim_cube_scripted_dataset-train.tfrecord-00007-of-00008  \n",
      "  inflating: aloha_sim_dataset/aloha_sim_cube_scripted_dataset/1.0.0/aloha_sim_cube_scripted_dataset-train.tfrecord-00004-of-00008  \n",
      "  inflating: aloha_sim_dataset/aloha_sim_cube_scripted_dataset/1.0.0/aloha_sim_cube_scripted_dataset-train.tfrecord-00002-of-00008  \n"
     ]
    }
   ],
   "source": [
    "!curl https://rail.eecs.berkeley.edu/datasets/example_sim_data.zip -O\n",
    "!unzip example_sim_data.zip"
   ]
  },
  {
   "cell_type": "code",
   "execution_count": 8,
   "metadata": {},
   "outputs": [
    {
     "name": "stdout",
     "output_type": "stream",
     "text": [
      "Searching \"octo/datasets/aloha_sim_dataset/aloha_sim_cube_scripted_dataset/1.0.0/dataset_statistics_efc466d3677b6697010485135012e2cd326145c80d09a51884ea8856801ebfb0.json\" in \"sagemaker-us-west-2-097242523850\"\n",
      "Uploading octo/datasets/aloha_sim_dataset/aloha_sim_cube_scripted_dataset/1.0.0/dataset_statistics_efc466d3677b6697010485135012e2cd326145c80d09a51884ea8856801ebfb0.json...\n",
      "Searching \"octo/datasets/aloha_sim_dataset/aloha_sim_cube_scripted_dataset/1.0.0/features.json\" in \"sagemaker-us-west-2-097242523850\"\n",
      "Uploading octo/datasets/aloha_sim_dataset/aloha_sim_cube_scripted_dataset/1.0.0/features.json...\n",
      "Searching \"octo/datasets/aloha_sim_dataset/aloha_sim_cube_scripted_dataset/1.0.0/aloha_sim_cube_scripted_dataset-train.tfrecord-00006-of-00008\" in \"sagemaker-us-west-2-097242523850\"\n",
      "Uploading octo/datasets/aloha_sim_dataset/aloha_sim_cube_scripted_dataset/1.0.0/aloha_sim_cube_scripted_dataset-train.tfrecord-00006-of-00008...\n",
      "Searching \"octo/datasets/aloha_sim_dataset/aloha_sim_cube_scripted_dataset/1.0.0/aloha_sim_cube_scripted_dataset-train.tfrecord-00007-of-00008\" in \"sagemaker-us-west-2-097242523850\"\n",
      "Uploading octo/datasets/aloha_sim_dataset/aloha_sim_cube_scripted_dataset/1.0.0/aloha_sim_cube_scripted_dataset-train.tfrecord-00007-of-00008...\n",
      "Searching \"octo/datasets/aloha_sim_dataset/aloha_sim_cube_scripted_dataset/1.0.0/aloha_sim_cube_scripted_dataset-train.tfrecord-00001-of-00008\" in \"sagemaker-us-west-2-097242523850\"\n",
      "Uploading octo/datasets/aloha_sim_dataset/aloha_sim_cube_scripted_dataset/1.0.0/aloha_sim_cube_scripted_dataset-train.tfrecord-00001-of-00008...\n",
      "Searching \"octo/datasets/aloha_sim_dataset/aloha_sim_cube_scripted_dataset/1.0.0/aloha_sim_cube_scripted_dataset-train.tfrecord-00000-of-00008\" in \"sagemaker-us-west-2-097242523850\"\n",
      "Uploading octo/datasets/aloha_sim_dataset/aloha_sim_cube_scripted_dataset/1.0.0/aloha_sim_cube_scripted_dataset-train.tfrecord-00000-of-00008...\n",
      "Searching \"octo/datasets/aloha_sim_dataset/aloha_sim_cube_scripted_dataset/1.0.0/aloha_sim_cube_scripted_dataset-train.tfrecord-00005-of-00008\" in \"sagemaker-us-west-2-097242523850\"\n",
      "Uploading octo/datasets/aloha_sim_dataset/aloha_sim_cube_scripted_dataset/1.0.0/aloha_sim_cube_scripted_dataset-train.tfrecord-00005-of-00008...\n",
      "Searching \"octo/datasets/aloha_sim_dataset/aloha_sim_cube_scripted_dataset/1.0.0/dataset_info.json\" in \"sagemaker-us-west-2-097242523850\"\n",
      "Uploading octo/datasets/aloha_sim_dataset/aloha_sim_cube_scripted_dataset/1.0.0/dataset_info.json...\n",
      "Searching \"octo/datasets/aloha_sim_dataset/aloha_sim_cube_scripted_dataset/1.0.0/aloha_sim_cube_scripted_dataset-train.tfrecord-00004-of-00008\" in \"sagemaker-us-west-2-097242523850\"\n",
      "Uploading octo/datasets/aloha_sim_dataset/aloha_sim_cube_scripted_dataset/1.0.0/aloha_sim_cube_scripted_dataset-train.tfrecord-00004-of-00008...\n",
      "Searching \"octo/datasets/aloha_sim_dataset/aloha_sim_cube_scripted_dataset/1.0.0/dataset_statistics_707801797899cdd91dcb18bd45463cf73ac935bfd6ac6b62456653e96f120a5f.json\" in \"sagemaker-us-west-2-097242523850\"\n",
      "Uploading octo/datasets/aloha_sim_dataset/aloha_sim_cube_scripted_dataset/1.0.0/dataset_statistics_707801797899cdd91dcb18bd45463cf73ac935bfd6ac6b62456653e96f120a5f.json...\n",
      "Searching \"octo/datasets/aloha_sim_dataset/aloha_sim_cube_scripted_dataset/1.0.0/dataset_statistics_30064f2847ec5dafa29d02e5c4a0d063660d0ca28bab3acf449bda185b3143dd.json\" in \"sagemaker-us-west-2-097242523850\"\n",
      "Uploading octo/datasets/aloha_sim_dataset/aloha_sim_cube_scripted_dataset/1.0.0/dataset_statistics_30064f2847ec5dafa29d02e5c4a0d063660d0ca28bab3acf449bda185b3143dd.json...\n",
      "Searching \"octo/datasets/aloha_sim_dataset/aloha_sim_cube_scripted_dataset/1.0.0/aloha_sim_cube_scripted_dataset-train.tfrecord-00002-of-00008\" in \"sagemaker-us-west-2-097242523850\"\n",
      "Uploading octo/datasets/aloha_sim_dataset/aloha_sim_cube_scripted_dataset/1.0.0/aloha_sim_cube_scripted_dataset-train.tfrecord-00002-of-00008...\n",
      "Searching \"octo/datasets/aloha_sim_dataset/aloha_sim_cube_scripted_dataset/1.0.0/aloha_sim_cube_scripted_dataset-train.tfrecord-00003-of-00008\" in \"sagemaker-us-west-2-097242523850\"\n",
      "Uploading octo/datasets/aloha_sim_dataset/aloha_sim_cube_scripted_dataset/1.0.0/aloha_sim_cube_scripted_dataset-train.tfrecord-00003-of-00008...\n"
     ]
    }
   ],
   "source": [
    "local_directory = f\"{os.getcwd()}/aloha_sim_dataset\"\n",
    "\n",
    "for root, dirs, files in os.walk(local_directory):\n",
    "\n",
    "    for filename in files:\n",
    "\n",
    "        local_path = os.path.join(root, filename)\n",
    "        relative_path = os.path.relpath(local_path, local_directory)\n",
    "        s3_path = os.path.join(prefix, relative_path)\n",
    "    \n",
    "        print('Searching \"%s\" in \"%s\"' % (s3_path, bucket))\n",
    "        try:\n",
    "            s3_client.head_object(Bucket=bucket, Key=s3_path)\n",
    "            print(f\"Path found on S3! Skipping {s3_path}...\")\n",
    "        except:\n",
    "            print(\"Uploading %s...\" % s3_path)\n",
    "            s3_client.upload_file(local_path, bucket, s3_path)"
   ]
  },
  {
   "cell_type": "code",
   "execution_count": 12,
   "metadata": {},
   "outputs": [],
   "source": [
    "!rm example_sim_data.zip\n",
    "!rm -fr aloha_sim_dataset"
   ]
  },
  {
   "cell_type": "markdown",
   "metadata": {},
   "source": [
    "## Finetune Octo on Amazon SageMaker"
   ]
  },
  {
   "cell_type": "code",
   "execution_count": 20,
   "metadata": {},
   "outputs": [
    {
     "name": "stderr",
     "output_type": "stream",
     "text": [
      "INFO:sagemaker:Creating training-job with name: octo-flax-2024-07-23-09-29-36-230\n"
     ]
    },
    {
     "name": "stdout",
     "output_type": "stream",
     "text": [
      "2024-07-23 09:30:04 Starting - Starting the training job...\n",
      "2024-07-23 09:30:05 Pending - Training job waiting for capacity..........................................................................................................................................................................."
     ]
    }
   ],
   "source": [
    "flax_estimator = TensorFlow(\n",
    "    role = role,\n",
    "    instance_count = instance_count,\n",
    "    base_job_name = base_job_name,\n",
    "    image_uri = image_uri,\n",
    "    py_version = py_version,\n",
    "    source_dir = source_dir,\n",
    "    entry_point = entry_point,\n",
    "    instance_type = instance_type,\n",
    "    keep_alive_period_in_seconds = keep_alive_period_in_seconds,\n",
    ")\n",
    "\n",
    "flax_estimator.fit(inputs={\n",
    "    'train': f\"s3://{bucket}/{prefix}\"})"
   ]
  },
  {
   "cell_type": "code",
   "execution_count": null,
   "metadata": {},
   "outputs": [],
   "source": []
  }
 ],
 "metadata": {
  "kernelspec": {
   "display_name": "Python 3",
   "language": "python",
   "name": "python3"
  },
  "language_info": {
   "codemirror_mode": {
    "name": "ipython",
    "version": 3
   },
   "file_extension": ".py",
   "mimetype": "text/x-python",
   "name": "python",
   "nbconvert_exporter": "python",
   "pygments_lexer": "ipython3",
   "version": "3.9.6"
  }
 },
 "nbformat": 4,
 "nbformat_minor": 2
}
